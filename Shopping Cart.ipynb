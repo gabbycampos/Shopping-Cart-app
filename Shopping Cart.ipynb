{
 "cells": [
  {
   "cell_type": "code",
   "execution_count": null,
   "metadata": {},
   "outputs": [],
   "source": [
    "from IPython.display import clear_output\n",
    "import os\n",
    "\n",
    "shopping_list = []\n",
    "\n",
    "def instructions():\n",
    "    print(\"\"\"Type 'ADD' to add items to cart.\n",
    "Type 'CLEAR' to clear all items from the cart.\n",
    "Type 'SHOW' to show all the current cart items.\n",
    "Type 'DONE' to quit and display all the cart items.\"\"\")\n",
    "\n",
    "def add_to_cart(item):\n",
    "    shopping_list.append(item)\n",
    "\n",
    "def clear_cart():\n",
    "    del shopping_list[:]\n",
    "    print(\"all of your items have been removed\")\n",
    "    \n",
    "def clear_console():\n",
    "    os.system('cls' if os.name == 'nt' else 'clear') # for terminals/command prompt\n",
    "    clear_output() # for jupyter notebook files\n",
    "\n",
    "def show_cart():\n",
    "    clear_console()\n",
    "    print(\"Here is your cart\")\n",
    "    new_dict = dict((i, shopping_list.count(i)) for i in shopping_list)\n",
    "    for k, v in new_dict.items():\n",
    "        print(f\"{k} [{v}]\")\n",
    "\n",
    "def main():\n",
    "    print(\"Welcome to the Python Shopping Cart Application\", end = '\\n'*2)\n",
    "          \n",
    "    while True:\n",
    "        instructions()\n",
    "        query = input(\"What would you like to do? \")\n",
    "        \n",
    "        if query.lower() == 'add':\n",
    "            clear_output()\n",
    "            query = input(\"What would you like to add? \")\n",
    "            add_to_cart(query)\n",
    "        elif query.lower() == 'clear':\n",
    "            clear_cart()\n",
    "        elif query.lower() == 'show':\n",
    "            show_cart()\n",
    "        elif query.lower() == 'done':\n",
    "            break\n",
    "            \n",
    "    show_cart()\n",
    "\n",
    "main()\n",
    "          "
   ]
  }
 ],
 "metadata": {
  "kernelspec": {
   "display_name": "Python 3",
   "language": "python",
   "name": "python3"
  },
  "language_info": {
   "codemirror_mode": {
    "name": "ipython",
    "version": 3
   },
   "file_extension": ".py",
   "mimetype": "text/x-python",
   "name": "python",
   "nbconvert_exporter": "python",
   "pygments_lexer": "ipython3",
   "version": "3.7.0"
  }
 },
 "nbformat": 4,
 "nbformat_minor": 2
}
